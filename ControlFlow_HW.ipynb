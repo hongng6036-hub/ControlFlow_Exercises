{
 "cells": [
  {
   "cell_type": "markdown",
   "id": "d6a036f9",
   "metadata": {},
   "source": [
    "# Control Flow Homework"
   ]
  },
  {
   "cell_type": "markdown",
   "id": "26c8d938",
   "metadata": {},
   "source": [
    "# Exercise 1:"
   ]
  },
  {
   "cell_type": "markdown",
   "id": "971f8d60",
   "metadata": {},
   "source": [
    "Guess a number between 1 to 9 given by the user\n"
   ]
  },
  {
   "cell_type": "code",
   "execution_count": 5,
   "id": "fdb31b94",
   "metadata": {},
   "outputs": [
    {
     "name": "stdout",
     "output_type": "stream",
     "text": [
      "Guess a number between 1 and 10 until you guessed correctly.1\n",
      "Wrong, Try again. Guess!\n",
      "Guess a number between 1 and 10 until you guessed correctly.2\n",
      "Wrong, Try again. Guess!\n",
      "Guess a number between 1 and 10 until you guessed correctly.3\n",
      "Wrong, Try again. Guess!\n",
      "Guess a number between 1 and 10 until you guessed correctly.4\n",
      "Wrong, Try again. Guess!\n",
      "Guess a number between 1 and 10 until you guessed correctly.5\n",
      "Wrong, Try again. Guess!\n",
      "Guess a number between 1 and 10 until you guessed correctly.6\n",
      "Wrong, Try again. Guess!\n",
      "Correct! You guessed the right number :)!\n"
     ]
    }
   ],
   "source": [
    "#Import a random integer generator, aliased as \"rng\"\n",
    "from random import randint as rng\n",
    "\n",
    "# Assign the the variable randomNumber to the random integer generated and specify the start and end point (1, 9)\n",
    "randomNumber = rng(1,9)\n",
    "guess = 0\n",
    "\n",
    "while randomNumber != guess:\n",
    "    guess = int(input(\"Guess a number between 1 and 10 until you guessed correctly.\"))\n",
    "    print(\"Wrong, Try again. Guess!\")\n",
    "\n",
    "print(\"Correct! You guessed the right number :)!\")"
   ]
  },
  {
   "cell_type": "markdown",
   "id": "5cfaff45",
   "metadata": {},
   "source": [
    "# Exercise 2:"
   ]
  },
  {
   "cell_type": "markdown",
   "id": "16ef6848",
   "metadata": {},
   "source": [
    "Check the validity of password input by the user. Hint. [Re](https://docs.python.org/3/library/re.html) which does matching operations much like Perl.\n",
    "\n",
    "Validation:\n",
    "\n",
    "- At least 1 letter between [a-z] and 1 letter between [A-Z].\n",
    "- At least 1 number between [0-9].\n",
    "- At least 1 character from [$#@].\n",
    "- Minimum length 6 characters.\n",
    "- Maximum length 16 characters."
   ]
  },
  {
   "cell_type": "code",
   "execution_count": 79,
   "id": "8cf1ec19",
   "metadata": {},
   "outputs": [
    {
     "name": "stdout",
     "output_type": "stream",
     "text": [
      "Please enter a valid password: \n",
      "Valid passwords are:\n",
      "\t6-16 characters in length, \n",
      "\tContain 1+numbers,\n",
      "\t1+ character from [$#@!], and \n",
      "\tAt least 1 upper and 1 lowercase letter.\n",
      "Input: hongiscool\n",
      "Password needs to have 1 letter between A-Z\n",
      "Please enter a valid password: \n",
      "Valid passwords are:\n",
      "\t6-16 characters in length, \n",
      "\tContain 1+numbers,\n",
      "\t1+ character from [$#@!], and \n",
      "\tAt least 1 upper and 1 lowercase letter.\n",
      "Input: HongisCool123\n",
      "Password needs to have a character from [$#@]\n",
      "Please enter a valid password: \n",
      "Valid passwords are:\n",
      "\t6-16 characters in length, \n",
      "\tContain 1+numbers,\n",
      "\t1+ character from [$#@!], and \n",
      "\tAt least 1 upper and 1 lowercase letter.\n",
      "Input: Hongiscool123!\n",
      "Good password!\n"
     ]
    }
   ],
   "source": [
    "#import Regex\n",
    "import re\n",
    "\n",
    "# Create a function\n",
    "def validatePassword():\n",
    "    while True:\n",
    "        # User's password input will be assigned to the password variable.\n",
    "        password = input('Please enter a valid password: \\nValid passwords are:\\n\\t6-16 characters in length, \\n\\tContain 1+numbers,\\n\\t1+ character from [$#@!], and \\n\\tAt least 1 upper and 1 lowercase letter.\\nInput: ')\n",
    "        if len(password) < 6:\n",
    "            print(\"Password needs to be at minimum length 6 characters.\")\n",
    "        elif len(password) > 16:\n",
    "            print(\"Password needs to be at max length 16 characters.\")\n",
    "        elif re.search('[a-z]', password) is None:\n",
    "            print(\"Password needs to have 1 letter between a-z\")\n",
    "        elif re.search('[A-Z]', password) is None:\n",
    "            print(\"Password needs to have 1 letter between A-Z\")\n",
    "        elif re.search('[0-9]', password) is None:\n",
    "            print(\"Password needs to have a number between 0-9.\")\n",
    "        elif re.search('[$, #, @, !]', password) is None:\n",
    "            print(\"Password needs to have a character from [$#@]\")\n",
    "        else:\n",
    "            print(\"Good password!\")\n",
    "            break\n",
    "\n",
    "validatePassword()\n",
    "\n",
    "# re.search[a-z]\n",
    "# re.search[A-Z]\n",
    "# re.search[1,9]\n",
    "# re.search('$', '#', '@')"
   ]
  },
  {
   "cell_type": "markdown",
   "id": "5c5024cc",
   "metadata": {},
   "source": [
    "# Exercise 3:"
   ]
  },
  {
   "cell_type": "markdown",
   "id": "c21d0cd1",
   "metadata": {},
   "source": [
    "Get input of the age of 3 people by user and determine oldest and youngest among them"
   ]
  },
  {
   "cell_type": "code",
   "execution_count": 12,
   "id": "f3533f8e",
   "metadata": {},
   "outputs": [
    {
     "name": "stdout",
     "output_type": "stream",
     "text": [
      "Enter a person's age: 10\n",
      "Enter a person's age: 20\n",
      "Enter a person's age: 40\n"
     ]
    },
    {
     "data": {
      "text/plain": [
       "40"
      ]
     },
     "execution_count": 12,
     "metadata": {},
     "output_type": "execute_result"
    }
   ],
   "source": [
    "#Create an empty list\n",
    "AgeList = []\n",
    "for n in range (3): # Use a \"for\" loop to iterate the question 3 times and store the age input into the list.\n",
    "    AgeInput = int(input(\"Enter a person's age: \"))\n",
    "    AgeList.append(AgeInput)\n",
    "    \n",
    "#This returns the oldest user/age.\n",
    "max(AgeList) "
   ]
  },
  {
   "cell_type": "code",
   "execution_count": 14,
   "id": "d5bee840",
   "metadata": {},
   "outputs": [
    {
     "data": {
      "text/plain": [
       "10"
      ]
     },
     "execution_count": 14,
     "metadata": {},
     "output_type": "execute_result"
    }
   ],
   "source": [
    "#This returns the youngest user/age.\n",
    "min(AgeList)"
   ]
  },
  {
   "cell_type": "markdown",
   "id": "fab496a7",
   "metadata": {},
   "source": [
    "# Exercise 4:"
   ]
  },
  {
   "cell_type": "markdown",
   "id": "2c52685f",
   "metadata": {},
   "source": [
    "A student will not be allowed to sit in exam if his/her attendance is less than 75%.\n",
    "\n",
    "Take following input from user\n",
    "\n",
    "Number of classes held\n",
    "\n",
    "Number of classes attended.\n",
    "\n",
    "And print\n",
    "    percentage of class attended\n",
    "\n",
    "Is student is allowed to sit in exam or not?"
   ]
  },
  {
   "cell_type": "code",
   "execution_count": 70,
   "id": "69b8bf20",
   "metadata": {},
   "outputs": [
    {
     "name": "stdout",
     "output_type": "stream",
     "text": [
      "Student's attendance percentage is:  96.66666666666667 %\n",
      "Good attendance. Student allowed to sit in exam.\n"
     ]
    }
   ],
   "source": [
    "TotalClasses = 30\n",
    "TotalAttended = 29\n",
    "Attendance = (TotalAttended / TotalClasses) * 100\n",
    "\n",
    "print(\"Student's attendance percentage is: \", Attendance, \"%\")\n",
    "\n",
    "if Attendance < 75:\n",
    "    print(\"\\nSorry, attendance is less than 75%. Student not allowed to sit in exam.\")\n",
    "else:\n",
    "    print(\"Good attendance. Student allowed to sit in exam.\")"
   ]
  },
  {
   "cell_type": "markdown",
   "id": "7ef22caf",
   "metadata": {},
   "source": [
    "# Exercise 5:"
   ]
  },
  {
   "cell_type": "markdown",
   "id": "364e2c9f",
   "metadata": {},
   "source": [
    "Get an integer N from the user and perform the following actions:\n",
    "\n",
    "if N is odd, print \"weird\"\n",
    "if N is even and in the inclusive range of 2 to 5, print \"Not Weird\"\n",
    "if N is even and in the inclusive range of 6 to 20, print \"Weird\"\n",
    "if N is even and greater than 20, print \"Not Weird\""
   ]
  },
  {
   "cell_type": "code",
   "execution_count": 45,
   "id": "367bfdd5",
   "metadata": {},
   "outputs": [
    {
     "name": "stdout",
     "output_type": "stream",
     "text": [
      "Enter a number: 16\n",
      "Weird!\n"
     ]
    }
   ],
   "source": [
    "N = int(input(\"Enter a number: \"))\n",
    "\n",
    "if N%2 == 1:\n",
    "    print(\"Weird.\")\n",
    "elif N%2 == 0 and N > 2 and N < 5:\n",
    "    print(\"Not Weird.\")\n",
    "elif N%2 == 0 and N > 6 and N < 20:\n",
    "    print(\"Weird!\")\n",
    "elif N%2 == 0 and N > 20:\n",
    "    print(\"Not Weird!\")\n",
    "else:\n",
    "    print(\"Try again.\")"
   ]
  },
  {
   "cell_type": "markdown",
   "id": "4d00d00b",
   "metadata": {},
   "source": [
    "# Extra Points"
   ]
  },
  {
   "cell_type": "markdown",
   "id": "6b14a93c",
   "metadata": {},
   "source": [
    "1. ***Optional Exercise (Extra Points)***. Write a Python program to reverse a string."
   ]
  },
  {
   "cell_type": "markdown",
   "id": "5c73d61c",
   "metadata": {},
   "source": [
    "1. ***Optional Exercise (Extra Points)***. Write a Python program to reverse a string."
   ]
  },
  {
   "cell_type": "markdown",
   "id": "ecf689cb",
   "metadata": {},
   "source": [
    "Sample String : \"1234abcd\"\n",
    "Expected Output : \"dcba4321\""
   ]
  },
  {
   "cell_type": "code",
   "execution_count": 47,
   "id": "900eaba4",
   "metadata": {},
   "outputs": [
    {
     "name": "stdout",
     "output_type": "stream",
     "text": [
      "dcba4321\n"
     ]
    }
   ],
   "source": [
    "String = \"1234abcd\"[::-1]\n",
    "print(String)"
   ]
  },
  {
   "cell_type": "markdown",
   "id": "f1adac27",
   "metadata": {},
   "source": [
    "2. ***Optional Exercise (Extra Points)***. Write a Python function to multiply all the numbers in a list. "
   ]
  },
  {
   "cell_type": "markdown",
   "id": "d7fed25d",
   "metadata": {},
   "source": [
    "Sample List : (8, 2, 3, -1, 7)\n",
    "Expected Output : -336"
   ]
  },
  {
   "cell_type": "code",
   "execution_count": 52,
   "id": "a619b160",
   "metadata": {},
   "outputs": [
    {
     "name": "stdout",
     "output_type": "stream",
     "text": [
      "-336\n"
     ]
    }
   ],
   "source": [
    "List = [8, 2, 3, -1, 7]\n",
    "Output = 1\n",
    "    \n",
    "for i in List:\n",
    "    Output = Output * i\n",
    "    \n",
    "print(Output)"
   ]
  },
  {
   "cell_type": "markdown",
   "id": "890a925c",
   "metadata": {},
   "source": [
    "3. ***Optional Exercise (Extra Points)***. Write a Python function that accepts a string and calculate the number of upper case letters and lower case letters."
   ]
  },
  {
   "cell_type": "markdown",
   "id": "b047a3fe",
   "metadata": {},
   "source": [
    "Sample String : 'The quick Brow Fox'\n",
    "Expected Output :\n",
    "No. of Upper case characters : 3\n",
    "No. of Lower case Characters : 12"
   ]
  },
  {
   "cell_type": "code",
   "execution_count": 68,
   "id": "3f8e2b75",
   "metadata": {},
   "outputs": [
    {
     "name": "stdout",
     "output_type": "stream",
     "text": [
      "No. of Upper case characters :  3\n",
      "No. of Lower case Characters :  12\n"
     ]
    }
   ],
   "source": [
    "StringInput = 'The quick Brow Fox'\n",
    "\n",
    "#Declare uppercase and lowercase variables.\n",
    "UpperCase = 0\n",
    "LowerCase = 0\n",
    "\n",
    "for i in StringInput:\n",
    "    if (i >= 'a' and i <= 'z'):\n",
    "        LowerCase = LowerCase + 1\n",
    "    elif (i >= 'A' and i <= 'Z'):\n",
    "        UpperCase = UpperCase + 1\n",
    "\n",
    "# CountUpper = sum(1 for elem in StringInput if elem.isuppper())\n",
    "# CountLower = sum(1 for elem in StringInput if elem.islower())\n",
    "\n",
    "print(\"No. of Upper case characters : \", UpperCase)\n",
    "print(\"No. of Lower case Characters : \", LowerCase)"
   ]
  }
 ],
 "metadata": {
  "kernelspec": {
   "display_name": "Python 3",
   "language": "python",
   "name": "python3"
  },
  "language_info": {
   "codemirror_mode": {
    "name": "ipython",
    "version": 3
   },
   "file_extension": ".py",
   "mimetype": "text/x-python",
   "name": "python",
   "nbconvert_exporter": "python",
   "pygments_lexer": "ipython3",
   "version": "3.8.8"
  }
 },
 "nbformat": 4,
 "nbformat_minor": 5
}
